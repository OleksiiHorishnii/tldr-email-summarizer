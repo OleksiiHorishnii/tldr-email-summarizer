{
 "cells": [
  {
   "cell_type": "code",
   "execution_count": 1,
   "metadata": {},
   "outputs": [],
   "source": [
    "from llm import llm"
   ]
  },
  {
   "cell_type": "code",
   "execution_count": 3,
   "metadata": {},
   "outputs": [
    {
     "name": "stdout",
     "output_type": "stream",
     "text": [
      "result:  {\n",
      "\"isCommerce\": 0.8,\n",
      "\"isSpam\": 0.0,\n",
      "\"isWork\": 0.0,\n",
      "\"summary\": \"Writing a review of your experience will help us improve our customer satisfaction.\"\n",
      "}\n",
      "{\n",
      "    \"isCommerce\": 0.8,\n",
      "    \"isSpam\": 0.0,\n",
      "    \"isWork\": 0.0,\n",
      "    \"summary\": \"Writing a review of your experience will help us improve our customer satisfaction.\"\n",
      "}\n"
     ]
    }
   ],
   "source": [
    "email_body = \"\"\"\n",
    "A quick reminder for you, Oleksii Horishnii.\n",
    "\n",
    "Thanks again for choosing www.dpd.ie.\n",
    "\n",
    "We would like to remind you that writing a review of your experience will help us improve our customer satisfaction. \n",
    "\"\"\"\n",
    "output = llm(email_body)\n",
    "output"
   ]
  }
 ],
 "metadata": {
  "kernelspec": {
   "display_name": "mail-summarizer-backend-hLykNo_f",
   "language": "python",
   "name": "python3"
  },
  "language_info": {
   "codemirror_mode": {
    "name": "ipython",
    "version": 3
   },
   "file_extension": ".py",
   "mimetype": "text/x-python",
   "name": "python",
   "nbconvert_exporter": "python",
   "pygments_lexer": "ipython3",
   "version": "3.11.5"
  }
 },
 "nbformat": 4,
 "nbformat_minor": 2
}

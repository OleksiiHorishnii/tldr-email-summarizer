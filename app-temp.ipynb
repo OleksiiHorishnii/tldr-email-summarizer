{
 "cells": [
  {
   "cell_type": "code",
   "execution_count": null,
   "metadata": {},
   "outputs": [],
   "source": [
    "import requests\n",
    "import json\n",
    "\n",
    "BASE_URL = \"http://127.0.0.1:5000\""
   ]
  },
  {
   "cell_type": "code",
   "execution_count": null,
   "metadata": {},
   "outputs": [],
   "source": [
    "def default_response_action(response):\n",
    "    if response.status_code == 200:\n",
    "        email_data = response.json()\n",
    "        return email_data\n",
    "    else:\n",
    "        print(f\"Status code: {response.status_code}\")\n",
    "        \n",
    "        # Only attempt to decode the response as JSON if the content type is 'application/json'.\n",
    "        if 'application/json' in response.headers.get('Content-Type', ''):\n",
    "            print(f\"Response: {response.json()}\")\n",
    "        else:\n",
    "            print(f\"Response: {response.text}\")    \n",
    "        return None"
   ]
  },
  {
   "cell_type": "code",
   "execution_count": null,
   "metadata": {},
   "outputs": [],
   "source": [
    "def enqueue_summary(id):\n",
    "    url = f\"{BASE_URL}/api/enqueue-summary\"\n",
    "    response = requests.post(url, json={\"header_message_id\": id})\n",
    "    return default_response_action(response)\n",
    "\n",
    "def get_tabs():\n",
    "    url = f\"{BASE_URL}/api/tabs\"\n",
    "    response = requests.get(url)\n",
    "    return default_response_action(response)\n",
    "\n",
    "def get_sections(tab):\n",
    "    url = f\"{BASE_URL}/api/tabs/{tab}/sections\"\n",
    "    response = requests.get(url)\n",
    "    return default_response_action(response)\n",
    "\n",
    "def get_emails(tab, section, start_from=None):\n",
    "    url = f\"{BASE_URL}/api/tabs/{tab}/sections/{section}/emails\"\n",
    "    if start_from:\n",
    "        url += f\"?start_from={start_from}\"\n",
    "    response = requests.get(url)\n",
    "    return default_response_action(response)"
   ]
  },
  {
   "cell_type": "code",
   "execution_count": null,
   "metadata": {},
   "outputs": [],
   "source": [
    "header_message_id = \"NM6663BB8C203627D04adobein_mid_prod9@mail.adobe.com\"\n",
    "response = enqueue_summary(header_message_id)\n",
    "response"
   ]
  },
  {
   "cell_type": "code",
   "execution_count": null,
   "metadata": {},
   "outputs": [],
   "source": [
    "tabs = get_tabs()\n",
    "tabs"
   ]
  },
  {
   "cell_type": "code",
   "execution_count": null,
   "metadata": {},
   "outputs": [],
   "source": [
    "sections = get_sections('general')\n",
    "sections"
   ]
  },
  {
   "cell_type": "code",
   "execution_count": null,
   "metadata": {},
   "outputs": [],
   "source": [
    "mails = get_emails('general', 'gmail')\n",
    "mails"
   ]
  },
  {
   "cell_type": "code",
   "execution_count": null,
   "metadata": {},
   "outputs": [],
   "source": [
    "mails = get_emails('general', 'all')\n",
    "mails"
   ]
  },
  {
   "cell_type": "code",
   "execution_count": null,
   "metadata": {},
   "outputs": [],
   "source": [
    "last_date = mails[-1]['date']\n",
    "mails = get_emails('general', 'gmail', last_date)\n",
    "mails"
   ]
  }
 ],
 "metadata": {
  "kernelspec": {
   "display_name": "mail-summarizer-backend-hLykNo_f",
   "language": "python",
   "name": "python3"
  },
  "language_info": {
   "codemirror_mode": {
    "name": "ipython",
    "version": 3
   },
   "file_extension": ".py",
   "mimetype": "text/x-python",
   "name": "python",
   "nbconvert_exporter": "python",
   "pygments_lexer": "ipython3",
   "version": "3.11.5"
  }
 },
 "nbformat": 4,
 "nbformat_minor": 2
}

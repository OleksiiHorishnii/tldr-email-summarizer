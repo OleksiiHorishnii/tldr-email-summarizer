{
 "cells": [
  {
   "cell_type": "code",
   "execution_count": null,
   "metadata": {},
   "outputs": [],
   "source": [
    "import requests\n",
    "import json\n",
    "\n",
    "BASE_URL = \"http://127.0.0.1:5000\""
   ]
  },
  {
   "cell_type": "code",
   "execution_count": null,
   "metadata": {},
   "outputs": [],
   "source": [
    "from bs4 import BeautifulSoup\n",
    "import re\n",
    "\n",
    "from llm import llm"
   ]
  },
  {
   "cell_type": "code",
   "execution_count": null,
   "metadata": {},
   "outputs": [],
   "source": [
    "def default_response_action(response):\n",
    "    if response.status_code == 200:\n",
    "        email_data = response.json()\n",
    "        return email_data\n",
    "    else:\n",
    "        print(f\"Status code: {response.status_code}\")\n",
    "        \n",
    "        # Only attempt to decode the response as JSON if the content type is 'application/json'.\n",
    "        if 'application/json' in response.headers.get('Content-Type', ''):\n",
    "            print(f\"Response: {response.json()}\")\n",
    "        else:\n",
    "            print(f\"Response: {response.text}\")    \n",
    "        return None"
   ]
  },
  {
   "cell_type": "code",
   "execution_count": null,
   "metadata": {},
   "outputs": [],
   "source": [
    "def get_emails():\n",
    "    url = f\"{BASE_URL}/api/emails\"\n",
    "    response = requests.get(url)\n",
    "    return default_response_action(response)"
   ]
  },
  {
   "cell_type": "code",
   "execution_count": null,
   "metadata": {},
   "outputs": [],
   "source": [
    "def get_full_email(header_message_id):\n",
    "    url = f\"{BASE_URL}/api/full-email/{header_message_id}\"\n",
    "    response = requests.get(url)\n",
    "    return default_response_action(response)"
   ]
  },
  {
   "cell_type": "code",
   "execution_count": null,
   "metadata": {},
   "outputs": [],
   "source": [
    "mails = get_emails()\n",
    "mails"
   ]
  },
  {
   "cell_type": "code",
   "execution_count": null,
   "metadata": {},
   "outputs": [],
   "source": [
    "header_message_id = \"NM66423025A0360265Dadobein_mid_prod9@mail.adobe.com\"\n",
    "email = get_full_email(header_message_id)\n",
    "email"
   ]
  },
  {
   "cell_type": "code",
   "execution_count": null,
   "metadata": {},
   "outputs": [],
   "source": [
    "def html_to_text(html_content):\n",
    "    soup = BeautifulSoup(html_content, 'html.parser')\n",
    "    text = soup.get_text()\n",
    "\n",
    "    # Replace sequences of whitespace characters with a single space or newline\n",
    "    def replacer(match):\n",
    "        # if the matched string contains a newline, replace with newline, otherwise replace with space\n",
    "        return '\\n' if '\\n' in match.group() else ' '\n",
    "\n",
    "    text = re.sub(r'[ \\t\\n]+', replacer, text)\n",
    "    \n",
    "    return text.strip()  # Removing any trailing or leading whitespace"
   ]
  },
  {
   "cell_type": "code",
   "execution_count": null,
   "metadata": {},
   "outputs": [],
   "source": [
    "def email_to_prompt(email):\n",
    "    subject = email.get('header', {}).get('subject', '')\n",
    "    author = email.get('header', {}).get('author', '')\n",
    "    body = html_to_text(email.get('body', ''))\n",
    "    return f\"\"\"\n",
    "Subject: {subject}\n",
    "Author: {author}\n",
    "\n",
    "EMAIL BODY BELOW THIS LINE\n",
    "\n",
    "{body}\n",
    "\"\"\""
   ]
  },
  {
   "cell_type": "code",
   "execution_count": null,
   "metadata": {},
   "outputs": [],
   "source": [
    "def process_email(email):\n",
    "    threshold = 150\n",
    "    prompt = email_to_prompt(email)\n",
    "    result, reason = llm(prompt)\n",
    "    if not result:\n",
    "        return None, reason\n",
    "    summary = result.get('summary', '')\n",
    "    body = html_to_text(email['body'])\n",
    "    if len(body) <= threshold:\n",
    "        result['summary'] = body\n",
    "        result['is_full_message'] = True\n",
    "    elif not summary:\n",
    "        result['summary'] = body[:threshold]\n",
    "        result['is_uprocessed_summary'] = True\n",
    "    return result, \"Success\""
   ]
  },
  {
   "cell_type": "code",
   "execution_count": null,
   "metadata": {},
   "outputs": [],
   "source": [
    "threshold = 150\n",
    "prompt = email_to_prompt(email)\n",
    "result, reason = llm(prompt)\n",
    "result"
   ]
  },
  {
   "cell_type": "code",
   "execution_count": null,
   "metadata": {},
   "outputs": [],
   "source": [
    "from summarizer import summarize\n",
    "\n",
    "summarize(email)"
   ]
  }
 ],
 "metadata": {
  "kernelspec": {
   "display_name": "mail-summarizer-backend-hLykNo_f",
   "language": "python",
   "name": "python3"
  },
  "language_info": {
   "codemirror_mode": {
    "name": "ipython",
    "version": 3
   },
   "file_extension": ".py",
   "mimetype": "text/x-python",
   "name": "python",
   "nbconvert_exporter": "python",
   "pygments_lexer": "ipython3",
   "version": "3.11.5"
  }
 },
 "nbformat": 4,
 "nbformat_minor": 2
}
